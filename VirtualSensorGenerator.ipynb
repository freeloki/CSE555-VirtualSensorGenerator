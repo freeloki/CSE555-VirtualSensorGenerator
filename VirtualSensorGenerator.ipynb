{
 "cells": [
  {
   "cell_type": "code",
   "execution_count": 1,
   "metadata": {},
   "outputs": [],
   "source": [
    "%load_ext autoreload\n",
    "%autoreload 2"
   ]
  },
  {
   "cell_type": "code",
   "execution_count": 2,
   "metadata": {},
   "outputs": [],
   "source": [
    "#imports \n",
    "import model\n",
    "import model_utils\n",
    "import data_utils\n"
   ]
  },
  {
   "cell_type": "code",
   "execution_count": 3,
   "metadata": {},
   "outputs": [],
   "source": [
    "import matplotlib.pyplot as plt\n",
    "%matplotlib inline"
   ]
  },
  {
   "cell_type": "code",
   "execution_count": 4,
   "metadata": {},
   "outputs": [],
   "source": [
    "import tensorflow as tf\n",
    "import numpy as np"
   ]
  },
  {
   "cell_type": "code",
   "execution_count": 5,
   "metadata": {},
   "outputs": [
    {
     "name": "stdout",
     "output_type": "stream",
     "text": [
      "(7352, 128)\n"
     ]
    }
   ],
   "source": [
    "data = data_utils.load_training_data()"
   ]
  },
  {
   "cell_type": "markdown",
   "metadata": {},
   "source": [
    "## Training The Model"
   ]
  },
  {
   "cell_type": "code",
   "execution_count": 6,
   "metadata": {},
   "outputs": [],
   "source": [
    "# To get reasonable outputs, should use something bigger than 1000 !\n",
    "num_epochs = 2500"
   ]
  },
  {
   "cell_type": "code",
   "execution_count": 10,
   "metadata": {},
   "outputs": [
    {
     "name": "stdout",
     "output_type": "stream",
     "text": [
      "Hohoo\n",
      "<tf.Variable 'mdn_model/w1:0' shape=(256, 128) dtype=float32_ref>\n",
      "Hohoo1\n",
      "<tf.Variable 'mdn_model/b1:0' shape=(128,) dtype=float32_ref>\n",
      "Hohoo2\n",
      "Tensor(\"mdn_model/Sigmoid:0\", shape=(80, 128), dtype=float32)\n",
      "Hohoo3\n",
      "<tf.Variable 'mdn_model/w2:0' shape=(128, 72) dtype=float32_ref>\n",
      "Hohoo4\n",
      "<tf.Variable 'mdn_model/b2:0' shape=(72,) dtype=float32_ref>\n",
      "Tensor(\"mdn_model/add_1:0\", shape=(80, 72), dtype=float32)\n",
      "Tensor(\"mdn_model/strided_slice:0\", shape=(80, 24), dtype=float32)\n",
      "Tensor(\"mdn_model/Exp:0\", shape=(80, 24), dtype=float32)\n",
      "Tensor(\"mdn_model/y:0\", shape=(4, 20, 1), dtype=float32)\n",
      "LOSS MDN: Tensor(\"mdn_model/Neg:0\", shape=(), dtype=float32)\n",
      "Hohoo\n",
      "<tf.Variable 'mdn_model/w1:0' shape=(256, 128) dtype=float32_ref>\n",
      "Hohoo1\n",
      "<tf.Variable 'mdn_model/b1:0' shape=(128,) dtype=float32_ref>\n",
      "Hohoo2\n",
      "Tensor(\"mdn_model_1/Sigmoid:0\", shape=(1, 128), dtype=float32)\n",
      "Hohoo3\n",
      "<tf.Variable 'mdn_model/w2:0' shape=(128, 72) dtype=float32_ref>\n",
      "Hohoo4\n",
      "<tf.Variable 'mdn_model/b2:0' shape=(72,) dtype=float32_ref>\n",
      "Tensor(\"mdn_model_1/add_1:0\", shape=(1, 72), dtype=float32)\n",
      "Tensor(\"mdn_model_1/strided_slice:0\", shape=(1, 24), dtype=float32)\n",
      "Tensor(\"mdn_model_1/Exp:0\", shape=(1, 24), dtype=float32)\n"
     ]
    }
   ],
   "source": [
    "model_utils.reset_session_and_model()\n",
    "with tf.Session() as sess:\n",
    "    train_config = model.ModelConfig()\n",
    "    train_config.num_layers = 10\n",
    "    test_config = model.ModelConfig()\n",
    "    train_config.learning_rate = 0.0003\n",
    "    test_config.num_layers = 1\n",
    "    test_config.batch_size = 1\n",
    "    test_config.num_steps = 1\n",
    "    loader = data_utils.DataLoader(data=data,batch_size=train_config.batch_size, num_steps=train_config.num_steps)\n",
    "    train_model = model.MDNModel(train_config, True)\n",
    "    test_model = model.MDNModel(test_config, False)\n",
    "    sess.run(tf.global_variables_initializer())\n",
    "    #saver = tf.train.Saver()\n",
    "    #for idx in range(num_epochs):\n",
    "        #epoch_loss = train_model.train_for_epoch(sess, loader)\n",
    "        #print(idx, ' ', epoch_loss)\n",
    "        #if (idx+1) % 100 == 0:\n",
    "            #saver.save(sess, './models/mdnmodel.ckpt', global_step=idx)"
   ]
  },
  {
   "cell_type": "code",
   "execution_count": null,
   "metadata": {},
   "outputs": [],
   "source": []
  }
 ],
 "metadata": {
  "kernelspec": {
   "display_name": "Python 3",
   "language": "python",
   "name": "python3"
  },
  "language_info": {
   "codemirror_mode": {
    "name": "ipython",
    "version": 3
   },
   "file_extension": ".py",
   "mimetype": "text/x-python",
   "name": "python",
   "nbconvert_exporter": "python",
   "pygments_lexer": "ipython3",
   "version": "3.5.2"
  }
 },
 "nbformat": 4,
 "nbformat_minor": 1
}
